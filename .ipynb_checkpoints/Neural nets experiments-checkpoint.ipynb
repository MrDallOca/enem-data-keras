{
 "cells": [
  {
   "cell_type": "code",
   "execution_count": 83,
   "metadata": {},
   "outputs": [],
   "source": [
    "%matplotlib inline"
   ]
  },
  {
   "cell_type": "code",
   "execution_count": 84,
   "metadata": {},
   "outputs": [],
   "source": [
    "from random import shuffle\n",
    "\n",
    "parts_i = list(range(862))\n",
    "shuffle(parts_i)\n",
    "\n",
    "test_parts = parts_i[0:100]\n",
    "train_parts = parts_i[100:]\n"
   ]
  },
  {
   "cell_type": "code",
   "execution_count": 160,
   "metadata": {},
   "outputs": [],
   "source": [
    "import matplotlib.pyplot as plt\n",
    "\n",
    "def show_loss_chart(history, output):\n",
    "    loss = history.history[output + '_loss']\n",
    "    val_loss = history.history['val_' + output + '_loss']\n",
    "    epochs = range(1, len(loss) + 1)\n",
    "    plt.plot(epochs, loss, 'bo', label='Training loss')\n",
    "    plt.plot(epochs, val_loss, 'b', label='Validation loss')\n",
    "    plt.title('Training and validation loss')\n",
    "    plt.xlabel('Epochs')\n",
    "    plt.ylabel('Loss - ' + output)\n",
    "    plt.legend()\n",
    "    plt.show()\n",
    "    \n",
    "def show_accuracy_chart(history, output):\n",
    "    acc = history.history[output + '_mean_absolute_error']\n",
    "    val_acc = history.history['val_' + output + '__mean_absolute_error']\n",
    "    epochs = range(1, len(acc) + 1)\n",
    "    plt.plot(epochs, acc, 'bo', label='Training mean_absolute_error')\n",
    "    plt.plot(epochs, val_acc, 'b', label='Validation mean_absolute_error')\n",
    "    plt.title('Training and validation accuracy')\n",
    "    plt.xlabel('Epochs')\n",
    "    plt.ylabel('Mean Abs Error - ' + output)\n",
    "    plt.legend()\n",
    "    plt.show()"
   ]
  },
  {
   "cell_type": "code",
   "execution_count": 147,
   "metadata": {},
   "outputs": [],
   "source": [
    "import pandas as pd\n",
    "import numpy as np\n",
    "\n",
    "part_format = \"/part{:04d}.csv\"\n",
    "base_dir = 'ENEM_2016_NORMALIZED'\n",
    "\n",
    "def part_reader(parts):\n",
    "    while True:\n",
    "        for p in parts:\n",
    "            data = pd.read_csv(base_dir + part_format.format(p))\n",
    "            yield (data.drop(target_labels + ['Unnamed: 0'], axis=1).values,data[target_labels].values)\n",
    "\n",
    "def part_reader_f(parts):\n",
    "    while True:\n",
    "        for p in parts:\n",
    "            data = pd.read_csv(base_dir + part_format.format(p))\n",
    "            y = data[target_labels].values.reshape((5,-1)).tolist()\n",
    "            x = data.drop(target_labels + ['Unnamed: 0'], axis=1).values.reshape(-1,45)\n",
    "            yield (x, y)"
   ]
  },
  {
   "cell_type": "code",
   "execution_count": 87,
   "metadata": {},
   "outputs": [],
   "source": [
    "validation = train_parts[:50]\n",
    "partial_train = train_parts[50:]\n",
    "target_labels = [\"NU_NOTA_MT\", \"NU_NOTA_CN\", \"NU_NOTA_CH\", \"NU_NOTA_LC\", \"NU_NOTA_REDACAO\"]"
   ]
  },
  {
   "cell_type": "code",
   "execution_count": 150,
   "metadata": {},
   "outputs": [],
   "source": [
    "from keras import models\n",
    "from keras import layers\n",
    "from keras.models import Model\n",
    "\n",
    "\n",
    "inp = layers.Input((45,))\n",
    "x = layers.Dense(512, activation='relu')(inp)\n",
    "x = layers.Dense(256, activation='relu')(x)\n",
    "x = layers.Dense(256, activation='relu')(x)\n",
    "x = layers.Dense(128, activation='relu')(x)\n",
    "x = layers.Dense(128, activation='relu')(x)\n",
    "x = layers.Dense(64, activation='relu')(x)\n",
    "\n",
    "out1 = layers.Dense(1, activation='linear', name='NU_NOTA_MT')(x)\n",
    "out2 = layers.Dense(1, activation='linear', name='NU_NOTA_CN')(x)\n",
    "out3 = layers.Dense(1, activation='linear', name='NU_NOTA_CH')(x)\n",
    "out4 = layers.Dense(1, activation='linear', name='NU_NOTA_LC')(x)\n",
    "out5 = layers.Dense(1, activation='linear', name='NU_NOTA_REDACAO')(x)\n",
    "\n",
    "model = Model(inputs=inp, outputs=[out1, out2, out3, out4, out5])"
   ]
  },
  {
   "cell_type": "code",
   "execution_count": 151,
   "metadata": {},
   "outputs": [],
   "source": [
    "from keras import optimizers\n",
    "from keras import metrics\n",
    "\n",
    "rmsprop = optimizers.RMSprop(lr=0.001)\n",
    "\n",
    "model.compile(optimizer=rmsprop, loss=['mse', 'mse', 'mse', 'mse', 'mse'], \n",
    "              metrics={ 'NU_NOTA_MT': 'mae',\n",
    "                        'NU_NOTA_CN': 'mae',\n",
    "                        'NU_NOTA_CH': 'mae',\n",
    "                        'NU_NOTA_LC': 'mae',\n",
    "                        'NU_NOTA_REDACAO': 'mae'})"
   ]
  },
  {
   "cell_type": "code",
   "execution_count": 90,
   "metadata": {},
   "outputs": [
    {
     "data": {
      "text/plain": [
       "['NU_NOTA_MT', 'NU_NOTA_CN', 'NU_NOTA_CH', 'NU_NOTA_LC', 'NU_NOTA_REDACAO']"
      ]
     },
     "execution_count": 90,
     "metadata": {},
     "output_type": "execute_result"
    }
   ],
   "source": [
    "target_labels"
   ]
  },
  {
   "cell_type": "code",
   "execution_count": 152,
   "metadata": {},
   "outputs": [
    {
     "name": "stdout",
     "output_type": "stream",
     "text": [
      "Epoch 1/15\n",
      "712/712 [==============================] - 286s 401ms/step - loss: 85875.6842 - NU_NOTA_MT_loss: 17099.2171 - NU_NOTA_CN_loss: 17400.3270 - NU_NOTA_CH_loss: 17122.8575 - NU_NOTA_LC_loss: 17115.4435 - NU_NOTA_REDACAO_loss: 17137.8388 - NU_NOTA_MT_mean_absolute_error: 97.6579 - NU_NOTA_CN_mean_absolute_error: 97.3777 - NU_NOTA_CH_mean_absolute_error: 97.1766 - NU_NOTA_LC_mean_absolute_error: 97.2879 - NU_NOTA_REDACAO_mean_absolute_error: 97.4750 - val_loss: 108142.6852 - val_NU_NOTA_MT_loss: 21995.7033 - val_NU_NOTA_CN_loss: 20834.4829 - val_NU_NOTA_CH_loss: 21123.8256 - val_NU_NOTA_LC_loss: 21952.2704 - val_NU_NOTA_REDACAO_loss: 22236.4030 - val_NU_NOTA_MT_mean_absolute_error: 118.1393 - val_NU_NOTA_CN_mean_absolute_error: 113.9872 - val_NU_NOTA_CH_mean_absolute_error: 114.9791 - val_NU_NOTA_LC_mean_absolute_error: 117.8829 - val_NU_NOTA_REDACAO_mean_absolute_error: 118.8020\n",
      "Epoch 2/15\n",
      "712/712 [==============================] - 307s 431ms/step - loss: 66823.3191 - NU_NOTA_MT_loss: 13507.2813 - NU_NOTA_CN_loss: 13153.0457 - NU_NOTA_CH_loss: 13357.2748 - NU_NOTA_LC_loss: 13340.9339 - NU_NOTA_REDACAO_loss: 13464.7835 - NU_NOTA_MT_mean_absolute_error: 88.9151 - NU_NOTA_CN_mean_absolute_error: 87.6224 - NU_NOTA_CH_mean_absolute_error: 88.3463 - NU_NOTA_LC_mean_absolute_error: 88.3012 - NU_NOTA_REDACAO_mean_absolute_error: 88.7473 - val_loss: 93874.1234 - val_NU_NOTA_MT_loss: 18937.3656 - val_NU_NOTA_CN_loss: 18358.7330 - val_NU_NOTA_CH_loss: 18283.7067 - val_NU_NOTA_LC_loss: 19071.7259 - val_NU_NOTA_REDACAO_loss: 19222.5933 - val_NU_NOTA_MT_mean_absolute_error: 107.4036 - val_NU_NOTA_CN_mean_absolute_error: 105.2790 - val_NU_NOTA_CH_mean_absolute_error: 104.9674 - val_NU_NOTA_LC_mean_absolute_error: 107.7803 - val_NU_NOTA_REDACAO_mean_absolute_error: 108.2598\n",
      "Epoch 3/15\n",
      "712/712 [==============================] - 252s 353ms/step - loss: 63988.0453 - NU_NOTA_MT_loss: 12917.9522 - NU_NOTA_CN_loss: 12613.9746 - NU_NOTA_CH_loss: 12803.3143 - NU_NOTA_LC_loss: 12767.2310 - NU_NOTA_REDACAO_loss: 12885.5734 - NU_NOTA_MT_mean_absolute_error: 86.7328 - NU_NOTA_CN_mean_absolute_error: 85.6229 - NU_NOTA_CH_mean_absolute_error: 86.2990 - NU_NOTA_LC_mean_absolute_error: 86.1714 - NU_NOTA_REDACAO_mean_absolute_error: 86.6089 - val_loss: 80680.6647 - val_NU_NOTA_MT_loss: 15851.5798 - val_NU_NOTA_CN_loss: 15943.0366 - val_NU_NOTA_CH_loss: 16181.8957 - val_NU_NOTA_LC_loss: 16231.3605 - val_NU_NOTA_REDACAO_loss: 16472.7916 - val_NU_NOTA_MT_mean_absolute_error: 96.3328 - val_NU_NOTA_CN_mean_absolute_error: 96.6583 - val_NU_NOTA_CH_mean_absolute_error: 97.4536 - val_NU_NOTA_LC_mean_absolute_error: 97.6235 - val_NU_NOTA_REDACAO_mean_absolute_error: 98.4347\n",
      "Epoch 4/15\n",
      "712/712 [==============================] - 224s 315ms/step - loss: 62138.0880 - NU_NOTA_MT_loss: 12502.9748 - NU_NOTA_CN_loss: 12330.6680 - NU_NOTA_CH_loss: 12408.3665 - NU_NOTA_LC_loss: 12425.6594 - NU_NOTA_REDACAO_loss: 12470.4193 - NU_NOTA_MT_mean_absolute_error: 85.1928 - NU_NOTA_CN_mean_absolute_error: 84.5758 - NU_NOTA_CH_mean_absolute_error: 84.8282 - NU_NOTA_LC_mean_absolute_error: 84.9101 - NU_NOTA_REDACAO_mean_absolute_error: 85.0690 - val_loss: 66881.5200 - val_NU_NOTA_MT_loss: 12904.2169 - val_NU_NOTA_CN_loss: 13527.2196 - val_NU_NOTA_CH_loss: 13740.0056 - val_NU_NOTA_LC_loss: 13241.3604 - val_NU_NOTA_REDACAO_loss: 13468.7172 - val_NU_NOTA_MT_mean_absolute_error: 85.7227 - val_NU_NOTA_CN_mean_absolute_error: 88.0315 - val_NU_NOTA_CH_mean_absolute_error: 88.6954 - val_NU_NOTA_LC_mean_absolute_error: 86.8994 - val_NU_NOTA_REDACAO_mean_absolute_error: 87.6611\n",
      "Epoch 5/15\n",
      "712/712 [==============================] - 228s 321ms/step - loss: 60958.6190 - NU_NOTA_MT_loss: 12228.1517 - NU_NOTA_CN_loss: 12133.9115 - NU_NOTA_CH_loss: 12174.0316 - NU_NOTA_LC_loss: 12179.1600 - NU_NOTA_REDACAO_loss: 12243.3643 - NU_NOTA_MT_mean_absolute_error: 84.1569 - NU_NOTA_CN_mean_absolute_error: 83.8390 - NU_NOTA_CH_mean_absolute_error: 83.9407 - NU_NOTA_LC_mean_absolute_error: 83.9835 - NU_NOTA_REDACAO_mean_absolute_error: 84.2131 - val_loss: 55819.2397 - val_NU_NOTA_MT_loss: 10887.3747 - val_NU_NOTA_CN_loss: 11279.2815 - val_NU_NOTA_CH_loss: 11236.0015 - val_NU_NOTA_LC_loss: 11114.6814 - val_NU_NOTA_REDACAO_loss: 11301.9006 - val_NU_NOTA_MT_mean_absolute_error: 78.7282 - val_NU_NOTA_CN_mean_absolute_error: 80.1064 - val_NU_NOTA_CH_mean_absolute_error: 79.8560 - val_NU_NOTA_LC_mean_absolute_error: 79.4581 - val_NU_NOTA_REDACAO_mean_absolute_error: 80.0442\n",
      "Epoch 6/15\n",
      "712/712 [==============================] - 222s 312ms/step - loss: 60019.4596 - NU_NOTA_MT_loss: 12014.4433 - NU_NOTA_CN_loss: 11966.3774 - NU_NOTA_CH_loss: 11996.3898 - NU_NOTA_LC_loss: 11992.1897 - NU_NOTA_REDACAO_loss: 12050.0593 - NU_NOTA_MT_mean_absolute_error: 83.3329 - NU_NOTA_CN_mean_absolute_error: 83.1889 - NU_NOTA_CH_mean_absolute_error: 83.2637 - NU_NOTA_LC_mean_absolute_error: 83.2651 - NU_NOTA_REDACAO_mean_absolute_error: 83.4797 - val_loss: 53519.2801 - val_NU_NOTA_MT_loss: 10625.8979 - val_NU_NOTA_CN_loss: 10716.0595 - val_NU_NOTA_CH_loss: 10711.1352 - val_NU_NOTA_LC_loss: 10709.6461 - val_NU_NOTA_REDACAO_loss: 10756.5413 - val_NU_NOTA_MT_mean_absolute_error: 78.1556 - val_NU_NOTA_CN_mean_absolute_error: 78.3742 - val_NU_NOTA_CH_mean_absolute_error: 78.3307 - val_NU_NOTA_LC_mean_absolute_error: 78.3214 - val_NU_NOTA_REDACAO_mean_absolute_error: 78.4590\n",
      "Epoch 7/15\n",
      "712/712 [==============================] - 221s 310ms/step - loss: 59279.2011 - NU_NOTA_MT_loss: 11818.8798 - NU_NOTA_CN_loss: 11814.0469 - NU_NOTA_CH_loss: 11851.7907 - NU_NOTA_LC_loss: 11860.1406 - NU_NOTA_REDACAO_loss: 11934.3432 - NU_NOTA_MT_mean_absolute_error: 82.5878 - NU_NOTA_CN_mean_absolute_error: 82.6090 - NU_NOTA_CH_mean_absolute_error: 82.7117 - NU_NOTA_LC_mean_absolute_error: 82.7663 - NU_NOTA_REDACAO_mean_absolute_error: 83.0415 - val_loss: 54307.2218 - val_NU_NOTA_MT_loss: 10849.0157 - val_NU_NOTA_CN_loss: 10807.6826 - val_NU_NOTA_CH_loss: 10889.0642 - val_NU_NOTA_LC_loss: 10857.2086 - val_NU_NOTA_REDACAO_loss: 10904.2509 - val_NU_NOTA_MT_mean_absolute_error: 79.4319 - val_NU_NOTA_CN_mean_absolute_error: 79.1171 - val_NU_NOTA_CH_mean_absolute_error: 79.4430 - val_NU_NOTA_LC_mean_absolute_error: 79.3167 - val_NU_NOTA_REDACAO_mean_absolute_error: 79.4510\n",
      "Epoch 8/15\n",
      "712/712 [==============================] - 218s 307ms/step - loss: 58614.8090 - NU_NOTA_MT_loss: 11692.5778 - NU_NOTA_CN_loss: 11684.8970 - NU_NOTA_CH_loss: 11712.3251 - NU_NOTA_LC_loss: 11732.7191 - NU_NOTA_REDACAO_loss: 11792.2902 - NU_NOTA_MT_mean_absolute_error: 82.1135 - NU_NOTA_CN_mean_absolute_error: 82.1203 - NU_NOTA_CH_mean_absolute_error: 82.1843 - NU_NOTA_LC_mean_absolute_error: 82.2874 - NU_NOTA_REDACAO_mean_absolute_error: 82.5061 - val_loss: 56274.3961 - val_NU_NOTA_MT_loss: 11226.7657 - val_NU_NOTA_CN_loss: 11180.0184 - val_NU_NOTA_CH_loss: 11354.5683 - val_NU_NOTA_LC_loss: 11196.2712 - val_NU_NOTA_REDACAO_loss: 11316.7723 - val_NU_NOTA_MT_mean_absolute_error: 81.2144 - val_NU_NOTA_CN_mean_absolute_error: 80.9008 - val_NU_NOTA_CH_mean_absolute_error: 81.6082 - val_NU_NOTA_LC_mean_absolute_error: 80.9336 - val_NU_NOTA_REDACAO_mean_absolute_error: 81.3911\n",
      "Epoch 9/15\n",
      "712/712 [==============================] - 221s 310ms/step - loss: 58052.2672 - NU_NOTA_MT_loss: 11571.1882 - NU_NOTA_CN_loss: 11591.9891 - NU_NOTA_CH_loss: 11602.5160 - NU_NOTA_LC_loss: 11636.9136 - NU_NOTA_REDACAO_loss: 11649.6602 - NU_NOTA_MT_mean_absolute_error: 81.6556 - NU_NOTA_CN_mean_absolute_error: 81.7733 - NU_NOTA_CH_mean_absolute_error: 81.7705 - NU_NOTA_LC_mean_absolute_error: 81.9302 - NU_NOTA_REDACAO_mean_absolute_error: 81.9687 - val_loss: 56939.6542 - val_NU_NOTA_MT_loss: 11331.5608 - val_NU_NOTA_CN_loss: 11305.1713 - val_NU_NOTA_CH_loss: 11511.8534 - val_NU_NOTA_LC_loss: 11304.7979 - val_NU_NOTA_REDACAO_loss: 11486.2709 - val_NU_NOTA_MT_mean_absolute_error: 81.6998 - val_NU_NOTA_CN_mean_absolute_error: 81.4787 - val_NU_NOTA_CH_mean_absolute_error: 82.3172 - val_NU_NOTA_LC_mean_absolute_error: 81.4347 - val_NU_NOTA_REDACAO_mean_absolute_error: 82.1617\n",
      "Epoch 10/15\n"
     ]
    },
    {
     "name": "stdout",
     "output_type": "stream",
     "text": [
      "712/712 [==============================] - 215s 303ms/step - loss: 57640.4925 - NU_NOTA_MT_loss: 11493.0498 - NU_NOTA_CN_loss: 11512.1419 - NU_NOTA_CH_loss: 11519.0443 - NU_NOTA_LC_loss: 11535.1617 - NU_NOTA_REDACAO_loss: 11581.0950 - NU_NOTA_MT_mean_absolute_error: 81.3580 - NU_NOTA_CN_mean_absolute_error: 81.4693 - NU_NOTA_CH_mean_absolute_error: 81.4516 - NU_NOTA_LC_mean_absolute_error: 81.5399 - NU_NOTA_REDACAO_mean_absolute_error: 81.7090 - val_loss: 56586.1970 - val_NU_NOTA_MT_loss: 11212.2246 - val_NU_NOTA_CN_loss: 11282.7546 - val_NU_NOTA_CH_loss: 11397.4651 - val_NU_NOTA_LC_loss: 11286.4452 - val_NU_NOTA_REDACAO_loss: 11407.3071 - val_NU_NOTA_MT_mean_absolute_error: 81.1690 - val_NU_NOTA_CN_mean_absolute_error: 81.3867 - val_NU_NOTA_CH_mean_absolute_error: 81.8228 - val_NU_NOTA_LC_mean_absolute_error: 81.3607 - val_NU_NOTA_REDACAO_mean_absolute_error: 81.8209\n",
      "Epoch 11/15\n",
      "712/712 [==============================] - 215s 302ms/step - loss: 57254.3112 - NU_NOTA_MT_loss: 11426.5776 - NU_NOTA_CN_loss: 11439.8841 - NU_NOTA_CH_loss: 11439.2428 - NU_NOTA_LC_loss: 11460.0343 - NU_NOTA_REDACAO_loss: 11488.5723 - NU_NOTA_MT_mean_absolute_error: 81.0990 - NU_NOTA_CN_mean_absolute_error: 81.1887 - NU_NOTA_CH_mean_absolute_error: 81.1442 - NU_NOTA_LC_mean_absolute_error: 81.2493 - NU_NOTA_REDACAO_mean_absolute_error: 81.3488 - val_loss: 55554.2823 - val_NU_NOTA_MT_loss: 11019.7911 - val_NU_NOTA_CN_loss: 11083.6980 - val_NU_NOTA_CH_loss: 11177.5274 - val_NU_NOTA_LC_loss: 11088.4201 - val_NU_NOTA_REDACAO_loss: 11184.8455 - val_NU_NOTA_MT_mean_absolute_error: 80.2966 - val_NU_NOTA_CN_mean_absolute_error: 80.4929 - val_NU_NOTA_CH_mean_absolute_error: 80.8478 - val_NU_NOTA_LC_mean_absolute_error: 80.4713 - val_NU_NOTA_REDACAO_mean_absolute_error: 80.8303\n",
      "Epoch 12/15\n",
      "712/712 [==============================] - 214s 300ms/step - loss: 56888.2312 - NU_NOTA_MT_loss: 11348.3425 - NU_NOTA_CN_loss: 11370.4408 - NU_NOTA_CH_loss: 11370.2101 - NU_NOTA_LC_loss: 11388.9830 - NU_NOTA_REDACAO_loss: 11410.2548 - NU_NOTA_MT_mean_absolute_error: 80.7945 - NU_NOTA_CN_mean_absolute_error: 80.9185 - NU_NOTA_CH_mean_absolute_error: 80.8821 - NU_NOTA_LC_mean_absolute_error: 80.9784 - NU_NOTA_REDACAO_mean_absolute_error: 81.0475 - val_loss: 54946.6360 - val_NU_NOTA_MT_loss: 10833.3673 - val_NU_NOTA_CN_loss: 10997.7603 - val_NU_NOTA_CH_loss: 11085.2661 - val_NU_NOTA_LC_loss: 10971.3513 - val_NU_NOTA_REDACAO_loss: 11058.8915 - val_NU_NOTA_MT_mean_absolute_error: 79.4282 - val_NU_NOTA_CN_mean_absolute_error: 80.1039 - val_NU_NOTA_CH_mean_absolute_error: 80.4357 - val_NU_NOTA_LC_mean_absolute_error: 79.9350 - val_NU_NOTA_REDACAO_mean_absolute_error: 80.2598\n",
      "Epoch 13/15\n",
      "712/712 [==============================] - 215s 302ms/step - loss: 56576.8688 - NU_NOTA_MT_loss: 11300.6831 - NU_NOTA_CN_loss: 11301.4364 - NU_NOTA_CH_loss: 11305.8275 - NU_NOTA_LC_loss: 11326.3461 - NU_NOTA_REDACAO_loss: 11342.5756 - NU_NOTA_MT_mean_absolute_error: 80.6122 - NU_NOTA_CN_mean_absolute_error: 80.6560 - NU_NOTA_CH_mean_absolute_error: 80.6384 - NU_NOTA_LC_mean_absolute_error: 80.7396 - NU_NOTA_REDACAO_mean_absolute_error: 80.7882 - val_loss: 54201.0475 - val_NU_NOTA_MT_loss: 10755.2410 - val_NU_NOTA_CN_loss: 10826.6721 - val_NU_NOTA_CH_loss: 10906.2753 - val_NU_NOTA_LC_loss: 10820.9024 - val_NU_NOTA_REDACAO_loss: 10891.9571 - val_NU_NOTA_MT_mean_absolute_error: 79.0598 - val_NU_NOTA_CN_mean_absolute_error: 79.3005 - val_NU_NOTA_CH_mean_absolute_error: 79.6087 - val_NU_NOTA_LC_mean_absolute_error: 79.2235 - val_NU_NOTA_REDACAO_mean_absolute_error: 79.4811\n",
      "Epoch 14/15\n",
      "712/712 [==============================] - 216s 303ms/step - loss: 56316.3138 - NU_NOTA_MT_loss: 11257.6513 - NU_NOTA_CN_loss: 11241.9780 - NU_NOTA_CH_loss: 11257.5598 - NU_NOTA_LC_loss: 11267.2963 - NU_NOTA_REDACAO_loss: 11291.8284 - NU_NOTA_MT_mean_absolute_error: 80.4420 - NU_NOTA_CN_mean_absolute_error: 80.4233 - NU_NOTA_CH_mean_absolute_error: 80.4491 - NU_NOTA_LC_mean_absolute_error: 80.5082 - NU_NOTA_REDACAO_mean_absolute_error: 80.5910 - val_loss: 53903.8159 - val_NU_NOTA_MT_loss: 10683.5407 - val_NU_NOTA_CN_loss: 10772.0353 - val_NU_NOTA_CH_loss: 10845.5880 - val_NU_NOTA_LC_loss: 10758.6898 - val_NU_NOTA_REDACAO_loss: 10843.9622 - val_NU_NOTA_MT_mean_absolute_error: 78.7123 - val_NU_NOTA_CN_mean_absolute_error: 79.0414 - val_NU_NOTA_CH_mean_absolute_error: 79.3254 - val_NU_NOTA_LC_mean_absolute_error: 78.9230 - val_NU_NOTA_REDACAO_mean_absolute_error: 79.2559\n",
      "Epoch 15/15\n",
      "712/712 [==============================] - 214s 301ms/step - loss: 56105.1498 - NU_NOTA_MT_loss: 11215.7077 - NU_NOTA_CN_loss: 11201.8198 - NU_NOTA_CH_loss: 11219.3977 - NU_NOTA_LC_loss: 11225.4715 - NU_NOTA_REDACAO_loss: 11242.7532 - NU_NOTA_MT_mean_absolute_error: 80.2857 - NU_NOTA_CN_mean_absolute_error: 80.2687 - NU_NOTA_CH_mean_absolute_error: 80.3047 - NU_NOTA_LC_mean_absolute_error: 80.3463 - NU_NOTA_REDACAO_mean_absolute_error: 80.4065 - val_loss: 53611.8840 - val_NU_NOTA_MT_loss: 10626.6559 - val_NU_NOTA_CN_loss: 10711.6807 - val_NU_NOTA_CH_loss: 10785.8906 - val_NU_NOTA_LC_loss: 10701.1932 - val_NU_NOTA_REDACAO_loss: 10786.4632 - val_NU_NOTA_MT_mean_absolute_error: 78.4298 - val_NU_NOTA_CN_mean_absolute_error: 78.7479 - val_NU_NOTA_CH_mean_absolute_error: 79.0392 - val_NU_NOTA_LC_mean_absolute_error: 78.6356 - val_NU_NOTA_REDACAO_mean_absolute_error: 78.9788\n"
     ]
    }
   ],
   "source": [
    "history = model.fit_generator(part_reader_f(partial_train),\n",
    "                              steps_per_epoch=len(partial_train),\n",
    "                              epochs=15,\n",
    "                              validation_data=part_reader_f(validation),\n",
    "                              validation_steps=len(validation))"
   ]
  },
  {
   "cell_type": "code",
   "execution_count": 161,
   "metadata": {},
   "outputs": [
    {
     "data": {
      "image/png": "[encoded data removed]",
      "text/plain": [
       "<Figure size 432x288 with 1 Axes>"
      ]
     },
     "metadata": {},
     "output_type": "display_data"
    }
   ],
   "source": [
    "show_loss_chart(history, 'NU_NOTA_MT')"
   ]
  }
 ],
 "metadata": {
  "kernelspec": {
   "display_name": "Python 3",
   "language": "python",
   "name": "python3"
  },
  "language_info": {
   "codemirror_mode": {
    "name": "ipython",
    "version": 3
   },
   "file_extension": ".py",
   "mimetype": "text/x-python",
   "name": "python",
   "nbconvert_exporter": "python",
   "pygments_lexer": "ipython3",
   "version": "3.6.5"
  }
 },
 "nbformat": 4,
 "nbformat_minor": 2
}
