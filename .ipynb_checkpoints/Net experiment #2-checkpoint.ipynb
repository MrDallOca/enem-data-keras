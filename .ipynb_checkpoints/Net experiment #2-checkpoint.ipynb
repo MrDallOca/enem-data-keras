{
 "cells": [
  {
   "cell_type": "code",
   "execution_count": 1,
   "metadata": {},
   "outputs": [],
   "source": [
    "%matplotlib inline"
   ]
  },
  {
   "cell_type": "code",
   "execution_count": 2,
   "metadata": {},
   "outputs": [],
   "source": [
    "from random import shuffle\n",
    "\n",
    "parts_i = list(range(862))\n",
    "shuffle(parts_i)\n",
    "\n",
    "test_parts = parts_i[0:100]\n",
    "train_parts = parts_i[100:]"
   ]
  },
  {
   "cell_type": "code",
   "execution_count": 3,
   "metadata": {},
   "outputs": [],
   "source": [
    "import matplotlib.pyplot as plt\n",
    "\n",
    "def show_loss_chart(history, output):\n",
    "    loss = history.history[output + '_loss']\n",
    "    val_loss = history.history['val_' + output + '_loss']\n",
    "    epochs = range(1, len(loss) + 1)\n",
    "    plt.plot(epochs, loss, 'bo', label='Training loss')\n",
    "    plt.plot(epochs, val_loss, 'b', label='Validation loss')\n",
    "    plt.title('Training and validation loss')\n",
    "    plt.xlabel('Epochs')\n",
    "    plt.ylabel('Loss - ' + output)\n",
    "    plt.legend()\n",
    "    plt.show()\n",
    "    \n",
    "def show_accuracy_chart(history, output):\n",
    "    acc = history.history[output + '_mean_absolute_error']\n",
    "    val_acc = history.history['val_' + output + '_mean_absolute_error']\n",
    "    epochs = range(1, len(acc) + 1)\n",
    "    plt.plot(epochs, acc, 'bo', label='Training mean_absolute_error')\n",
    "    plt.plot(epochs, val_acc, 'b', label='Validation mean_absolute_error')\n",
    "    plt.title('Training and validation accuracy')\n",
    "    plt.xlabel('Epochs')\n",
    "    plt.ylabel('Mean Abs Error - ' + output)\n",
    "    plt.legend()\n",
    "    plt.show()"
   ]
  },
  {
   "cell_type": "code",
   "execution_count": 14,
   "metadata": {},
   "outputs": [],
   "source": [
    "import pandas as pd\n",
    "import numpy as np\n",
    "\n",
    "part_format = \"/part{:04d}.csv\"\n",
    "base_dir = 'ENEM_2016_NORMALIZED'\n",
    "\n",
    "def part_reader(parts):\n",
    "    while True:\n",
    "        for p in parts:\n",
    "            data = pd.read_csv(base_dir + part_format.format(p))\n",
    "            yield (data.drop(target_labels + ['Unnamed: 0'], axis=1).values,data[target_labels].values)\n",
    "\n",
    "def part_reader_f(parts):\n",
    "    while True:\n",
    "        for p in parts:\n",
    "            data = pd.read_csv(base_dir + part_format.format(p))\n",
    "            y = data[target_labels].values.reshape((5,-1)).tolist()\n",
    "            x = data.drop(target_labels + ['Unnamed: 0'], axis=1).values.reshape(-1,55)\n",
    "            yield (x, y)"
   ]
  },
  {
   "cell_type": "code",
   "execution_count": 13,
   "metadata": {},
   "outputs": [
    {
     "data": {
      "text/plain": [
       "array([], shape=(0, 55), dtype=object)"
      ]
     },
     "execution_count": 13,
     "metadata": {},
     "output_type": "execute_result"
    }
   ],
   "source": [
    "data = pd.read_csv(base_dir + part_format.format(test_parts[1]))\n",
    "data.drop(target_labels + ['Unnamed: 0'], axis=1).values"
   ]
  },
  {
   "cell_type": "code",
   "execution_count": 5,
   "metadata": {},
   "outputs": [],
   "source": [
    "validation = train_parts[:50]\n",
    "partial_train = train_parts[50:]\n",
    "target_labels = [\"NU_NOTA_MT\", \"NU_NOTA_CN\", \"NU_NOTA_CH\", \"NU_NOTA_LC\", \"NU_NOTA_REDACAO\"]"
   ]
  },
  {
   "cell_type": "code",
   "execution_count": 37,
   "metadata": {},
   "outputs": [],
   "source": [
    "from keras import models\n",
    "from keras import layers\n",
    "from keras.models import Model\n",
    "\n",
    "\n",
    "inp = layers.Input((55,))\n",
    "x = layers.Dense(32, activation='relu')(inp)\n",
    "x = layers.Dense(64, activation='relu')(x)\n",
    "x = layers.Dense(128, activation='relu')(x)\n",
    "x = layers.Dense(256, activation='relu')(x)\n",
    "x = layers.Dense(512, activation='relu')(x)\n",
    "x = layers.Dense(1024, activation='relu')(x)\n",
    "x = layers.Dense(2048, activation='relu')(x)\n",
    "'''\n",
    "x = layers.Dense(256, activation='relu')(x)\n",
    "x = layers.Dense(256, activation='relu')(x)\n",
    "x = layers.Dense(128, activation='relu')(x)\n",
    "x = layers.Dense(64, activation='relu')(x)\n",
    "'''\n",
    "\n",
    "out1 = layers.Dense(1, activation='linear', name='NU_NOTA_MT')(x)\n",
    "out2 = layers.Dense(1, activation='linear', name='NU_NOTA_CN')(x)\n",
    "out3 = layers.Dense(1, activation='linear', name='NU_NOTA_CH')(x)\n",
    "out4 = layers.Dense(1, activation='linear', name='NU_NOTA_LC')(x)\n",
    "out5 = layers.Dense(1, activation='linear', name='NU_NOTA_REDACAO')(x)\n",
    "\n",
    "model = Model(inputs=inp, outputs=[out1, out2, out3, out4, out5])\n",
    "\n",
    "from keras import optimizers\n",
    "from keras import metrics\n",
    "\n",
    "rmsprop = optimizers.RMSprop(lr=0.0001)\n",
    "\n",
    "model.compile(optimizer=rmsprop, loss=['mse', 'mse', 'mse', 'mse', 'mse'], \n",
    "              metrics={ 'NU_NOTA_MT': 'mae',\n",
    "                        'NU_NOTA_CN': 'mae',\n",
    "                        'NU_NOTA_CH': 'mae',\n",
    "                        'NU_NOTA_LC': 'mae',\n",
    "                        'NU_NOTA_REDACAO': 'mae'})"
   ]
  },
  {
   "cell_type": "code",
   "execution_count": 38,
   "metadata": {},
   "outputs": [
    {
     "name": "stdout",
     "output_type": "stream",
     "text": [
      "Epoch 1/40\n",
      "712/712 [==============================] - 76s 107ms/step - loss: 1266679.2670 - NU_NOTA_MT_loss: 251735.7409 - NU_NOTA_CN_loss: 255939.1032 - NU_NOTA_CH_loss: 252264.0194 - NU_NOTA_LC_loss: 251608.4706 - NU_NOTA_REDACAO_loss: 255131.9350 - NU_NOTA_MT_mean_absolute_error: 490.9639 - NU_NOTA_CN_mean_absolute_error: 495.3577 - NU_NOTA_CH_mean_absolute_error: 491.5320 - NU_NOTA_LC_mean_absolute_error: 490.8416 - NU_NOTA_REDACAO_mean_absolute_error: 494.5234 - val_loss: 1012149.7625 - val_NU_NOTA_MT_loss: 197297.8493 - val_NU_NOTA_CN_loss: 210665.6216 - val_NU_NOTA_CH_loss: 199277.0177 - val_NU_NOTA_LC_loss: 197558.5599 - val_NU_NOTA_REDACAO_loss: 207350.7039 - val_NU_NOTA_MT_mean_absolute_error: 432.9632 - val_NU_NOTA_CN_mean_absolute_error: 448.0698 - val_NU_NOTA_CH_mean_absolute_error: 435.2931 - val_NU_NOTA_LC_mean_absolute_error: 433.2249 - val_NU_NOTA_REDACAO_mean_absolute_error: 444.4284\n",
      "Epoch 2/40\n",
      "712/712 [==============================] - 84s 118ms/step - loss: 405226.7180 - NU_NOTA_MT_loss: 75933.7461 - NU_NOTA_CN_loss: 88703.9706 - NU_NOTA_CH_loss: 78673.9909 - NU_NOTA_LC_loss: 75841.0220 - NU_NOTA_REDACAO_loss: 86073.9887 - NU_NOTA_MT_mean_absolute_error: 228.5477 - NU_NOTA_CN_mean_absolute_error: 252.3218 - NU_NOTA_CH_mean_absolute_error: 233.7669 - NU_NOTA_LC_mean_absolute_error: 228.3484 - NU_NOTA_REDACAO_mean_absolute_error: 247.3866 - val_loss: 74819.7640 - val_NU_NOTA_MT_loss: 14997.8611 - val_NU_NOTA_CN_loss: 14996.6093 - val_NU_NOTA_CH_loss: 14925.0339 - val_NU_NOTA_LC_loss: 15012.5779 - val_NU_NOTA_REDACAO_loss: 14887.6824 - val_NU_NOTA_MT_mean_absolute_error: 94.0390 - val_NU_NOTA_CN_mean_absolute_error: 93.9290 - val_NU_NOTA_CH_mean_absolute_error: 93.7227 - val_NU_NOTA_LC_mean_absolute_error: 94.1296 - val_NU_NOTA_REDACAO_mean_absolute_error: 93.7333\n",
      "Epoch 3/40\n",
      "712/712 [==============================] - 86s 121ms/step - loss: 70498.7095 - NU_NOTA_MT_loss: 14100.9396 - NU_NOTA_CN_loss: 14112.5278 - NU_NOTA_CH_loss: 14109.7098 - NU_NOTA_LC_loss: 14091.2965 - NU_NOTA_REDACAO_loss: 14084.2360 - NU_NOTA_MT_mean_absolute_error: 90.9076 - NU_NOTA_CN_mean_absolute_error: 90.9734 - NU_NOTA_CH_mean_absolute_error: 90.9030 - NU_NOTA_LC_mean_absolute_error: 90.8859 - NU_NOTA_REDACAO_mean_absolute_error: 90.8596 - val_loss: 66871.7774 - val_NU_NOTA_MT_loss: 13413.4295 - val_NU_NOTA_CN_loss: 13395.9686 - val_NU_NOTA_CH_loss: 13336.0477 - val_NU_NOTA_LC_loss: 13424.6647 - val_NU_NOTA_REDACAO_loss: 13301.6669 - val_NU_NOTA_MT_mean_absolute_error: 88.4515 - val_NU_NOTA_CN_mean_absolute_error: 88.3408 - val_NU_NOTA_CH_mean_absolute_error: 88.1424 - val_NU_NOTA_LC_mean_absolute_error: 88.5516 - val_NU_NOTA_REDACAO_mean_absolute_error: 88.2219\n",
      "Epoch 4/40\n",
      "712/712 [==============================] - 87s 122ms/step - loss: 64897.5970 - NU_NOTA_MT_loss: 12981.4261 - NU_NOTA_CN_loss: 12990.4364 - NU_NOTA_CH_loss: 12990.5588 - NU_NOTA_LC_loss: 12970.9068 - NU_NOTA_REDACAO_loss: 12964.2690 - NU_NOTA_MT_mean_absolute_error: 86.8995 - NU_NOTA_CN_mean_absolute_error: 86.9575 - NU_NOTA_CH_mean_absolute_error: 86.9010 - NU_NOTA_LC_mean_absolute_error: 86.8683 - NU_NOTA_REDACAO_mean_absolute_error: 86.8472 - val_loss: 62886.9518 - val_NU_NOTA_MT_loss: 12619.3738 - val_NU_NOTA_CN_loss: 12590.9118 - val_NU_NOTA_CH_loss: 12542.3120 - val_NU_NOTA_LC_loss: 12626.1759 - val_NU_NOTA_REDACAO_loss: 12508.1776 - val_NU_NOTA_MT_mean_absolute_error: 85.5333 - val_NU_NOTA_CN_mean_absolute_error: 85.3982 - val_NU_NOTA_CH_mean_absolute_error: 85.2453 - val_NU_NOTA_LC_mean_absolute_error: 85.6303 - val_NU_NOTA_REDACAO_mean_absolute_error: 85.3135\n",
      "Epoch 5/40\n",
      "712/712 [==============================] - 86s 121ms/step - loss: 61977.3363 - NU_NOTA_MT_loss: 12397.9361 - NU_NOTA_CN_loss: 12405.0265 - NU_NOTA_CH_loss: 12406.5993 - NU_NOTA_LC_loss: 12386.6762 - NU_NOTA_REDACAO_loss: 12381.0983 - NU_NOTA_MT_mean_absolute_error: 84.7413 - NU_NOTA_CN_mean_absolute_error: 84.7934 - NU_NOTA_CH_mean_absolute_error: 84.7446 - NU_NOTA_LC_mean_absolute_error: 84.7023 - NU_NOTA_REDACAO_mean_absolute_error: 84.6896 - val_loss: 60694.1912 - val_NU_NOTA_MT_loss: 12180.0606 - val_NU_NOTA_CN_loss: 12149.1465 - val_NU_NOTA_CH_loss: 12108.2942 - val_NU_NOTA_LC_loss: 12185.3888 - val_NU_NOTA_REDACAO_loss: 12071.3011 - val_NU_NOTA_MT_mean_absolute_error: 83.9033 - val_NU_NOTA_CN_mean_absolute_error: 83.7552 - val_NU_NOTA_CH_mean_absolute_error: 83.6230 - val_NU_NOTA_LC_mean_absolute_error: 83.9892 - val_NU_NOTA_REDACAO_mean_absolute_error: 83.6757\n",
      "Epoch 6/40\n",
      "712/712 [==============================] - 88s 124ms/step - loss: 60270.3862 - NU_NOTA_MT_loss: 12057.0030 - NU_NOTA_CN_loss: 12062.5948 - NU_NOTA_CH_loss: 12064.8984 - NU_NOTA_LC_loss: 12045.3850 - NU_NOTA_REDACAO_loss: 12040.5052 - NU_NOTA_MT_mean_absolute_error: 83.4620 - NU_NOTA_CN_mean_absolute_error: 83.5091 - NU_NOTA_CH_mean_absolute_error: 83.4653 - NU_NOTA_LC_mean_absolute_error: 83.4196 - NU_NOTA_REDACAO_mean_absolute_error: 83.4093 - val_loss: 59364.1878 - val_NU_NOTA_MT_loss: 11912.8194 - val_NU_NOTA_CN_loss: 11881.7809 - val_NU_NOTA_CH_loss: 11845.1930 - val_NU_NOTA_LC_loss: 11917.6352 - val_NU_NOTA_REDACAO_loss: 11806.7592 - val_NU_NOTA_MT_mean_absolute_error: 82.9005 - val_NU_NOTA_CN_mean_absolute_error: 82.7508 - val_NU_NOTA_CH_mean_absolute_error: 82.6281 - val_NU_NOTA_LC_mean_absolute_error: 82.9813 - val_NU_NOTA_REDACAO_mean_absolute_error: 82.6745\n",
      "Epoch 7/40\n",
      "712/712 [==============================] - 87s 122ms/step - loss: 59216.3081 - NU_NOTA_MT_loss: 11846.6055 - NU_NOTA_CN_loss: 11850.9857 - NU_NOTA_CH_loss: 11853.8163 - NU_NOTA_LC_loss: 11834.7412 - NU_NOTA_REDACAO_loss: 11830.1594 - NU_NOTA_MT_mean_absolute_error: 82.6672 - NU_NOTA_CN_mean_absolute_error: 82.7112 - NU_NOTA_CH_mean_absolute_error: 82.6710 - NU_NOTA_LC_mean_absolute_error: 82.6211 - NU_NOTA_REDACAO_mean_absolute_error: 82.6123 - val_loss: 58519.3244 - val_NU_NOTA_MT_loss: 11742.8205 - val_NU_NOTA_CN_loss: 11711.8188 - val_NU_NOTA_CH_loss: 11678.0256 - val_NU_NOTA_LC_loss: 11747.7094 - val_NU_NOTA_REDACAO_loss: 11638.9499 - val_NU_NOTA_MT_mean_absolute_error: 82.2607 - val_NU_NOTA_CN_mean_absolute_error: 82.1107 - val_NU_NOTA_CH_mean_absolute_error: 81.9920 - val_NU_NOTA_LC_mean_absolute_error: 82.3356 - val_NU_NOTA_REDACAO_mean_absolute_error: 82.0349\n",
      "Epoch 8/40\n",
      "712/712 [==============================] - 86s 121ms/step - loss: 58512.0794 - NU_NOTA_MT_loss: 11706.0472 - NU_NOTA_CN_loss: 11709.5071 - NU_NOTA_CH_loss: 11712.8538 - NU_NOTA_LC_loss: 11694.0774 - NU_NOTA_REDACAO_loss: 11689.5938 - NU_NOTA_MT_mean_absolute_error: 82.1346 - NU_NOTA_CN_mean_absolute_error: 82.1764 - NU_NOTA_CH_mean_absolute_error: 82.1388 - NU_NOTA_LC_mean_absolute_error: 82.0855 - NU_NOTA_REDACAO_mean_absolute_error: 82.0789 - val_loss: 57921.0438 - val_NU_NOTA_MT_loss: 11622.3544 - val_NU_NOTA_CN_loss: 11591.3422 - val_NU_NOTA_CH_loss: 11559.5990 - val_NU_NOTA_LC_loss: 11627.4936 - val_NU_NOTA_REDACAO_loss: 11520.2551 - val_NU_NOTA_MT_mean_absolute_error: 81.8062 - val_NU_NOTA_CN_mean_absolute_error: 81.6567 - val_NU_NOTA_CH_mean_absolute_error: 81.5415 - val_NU_NOTA_LC_mean_absolute_error: 81.8763 - val_NU_NOTA_REDACAO_mean_absolute_error: 81.5829\n",
      "Epoch 9/40\n",
      "712/712 [==============================] - 89s 125ms/step - loss: 57981.9792 - NU_NOTA_MT_loss: 11600.1810 - NU_NOTA_CN_loss: 11602.9637 - NU_NOTA_CH_loss: 11606.8267 - NU_NOTA_LC_loss: 11588.2728 - NU_NOTA_REDACAO_loss: 11583.7351 - NU_NOTA_MT_mean_absolute_error: 81.7328 - NU_NOTA_CN_mean_absolute_error: 81.7727 - NU_NOTA_CH_mean_absolute_error: 81.7377 - NU_NOTA_LC_mean_absolute_error: 81.6823 - NU_NOTA_REDACAO_mean_absolute_error: 81.6766 - val_loss: 57446.7389 - val_NU_NOTA_MT_loss: 11526.8534 - val_NU_NOTA_CN_loss: 11495.7381 - val_NU_NOTA_CH_loss: 11465.6406 - val_NU_NOTA_LC_loss: 11532.2833 - val_NU_NOTA_REDACAO_loss: 11426.2232 - val_NU_NOTA_MT_mean_absolute_error: 81.4444 - val_NU_NOTA_CN_mean_absolute_error: 81.2949 - val_NU_NOTA_CH_mean_absolute_error: 81.1820 - val_NU_NOTA_LC_mean_absolute_error: 81.5124 - val_NU_NOTA_REDACAO_mean_absolute_error: 81.2239\n",
      "Epoch 10/40\n"
     ]
    },
    {
     "name": "stdout",
     "output_type": "stream",
     "text": [
      "712/712 [==============================] - 87s 123ms/step - loss: 57541.6879 - NU_NOTA_MT_loss: 11512.1854 - NU_NOTA_CN_loss: 11514.4492 - NU_NOTA_CH_loss: 11518.8139 - NU_NOTA_LC_loss: 11500.4706 - NU_NOTA_REDACAO_loss: 11495.7688 - NU_NOTA_MT_mean_absolute_error: 81.3979 - NU_NOTA_CN_mean_absolute_error: 81.4365 - NU_NOTA_CH_mean_absolute_error: 81.4037 - NU_NOTA_LC_mean_absolute_error: 81.3476 - NU_NOTA_REDACAO_mean_absolute_error: 81.3421 - val_loss: 57040.6623 - val_NU_NOTA_MT_loss: 11445.1029 - val_NU_NOTA_CN_loss: 11413.7928 - val_NU_NOTA_CH_loss: 11385.1452 - val_NU_NOTA_LC_loss: 11450.8513 - val_NU_NOTA_REDACAO_loss: 11345.7700 - val_NU_NOTA_MT_mean_absolute_error: 81.1329 - val_NU_NOTA_CN_mean_absolute_error: 80.9841 - val_NU_NOTA_CH_mean_absolute_error: 80.8717 - val_NU_NOTA_LC_mean_absolute_error: 81.2005 - val_NU_NOTA_REDACAO_mean_absolute_error: 80.9158\n",
      "Epoch 11/40\n",
      "712/712 [==============================] - 87s 122ms/step - loss: 57154.5502 - NU_NOTA_MT_loss: 11434.7526 - NU_NOTA_CN_loss: 11436.6127 - NU_NOTA_CH_loss: 11441.4637 - NU_NOTA_LC_loss: 11423.3231 - NU_NOTA_REDACAO_loss: 11418.3979 - NU_NOTA_MT_mean_absolute_error: 81.1026 - NU_NOTA_CN_mean_absolute_error: 81.1402 - NU_NOTA_CH_mean_absolute_error: 81.1094 - NU_NOTA_LC_mean_absolute_error: 81.0531 - NU_NOTA_REDACAO_mean_absolute_error: 81.0471 - val_loss: 56678.9255 - val_NU_NOTA_MT_loss: 11372.3073 - val_NU_NOTA_CN_loss: 11340.7168 - val_NU_NOTA_CH_loss: 11313.3771 - val_NU_NOTA_LC_loss: 11378.3702 - val_NU_NOTA_REDACAO_loss: 11274.1544 - val_NU_NOTA_MT_mean_absolute_error: 80.8551 - val_NU_NOTA_CN_mean_absolute_error: 80.7071 - val_NU_NOTA_CH_mean_absolute_error: 80.5944 - val_NU_NOTA_LC_mean_absolute_error: 80.9218 - val_NU_NOTA_REDACAO_mean_absolute_error: 80.6411\n",
      "Epoch 12/40\n",
      "712/712 [==============================] - 88s 124ms/step - loss: 56804.8676 - NU_NOTA_MT_loss: 11364.7756 - NU_NOTA_CN_loss: 11366.3109 - NU_NOTA_CH_loss: 11371.6193 - NU_NOTA_LC_loss: 11353.6740 - NU_NOTA_REDACAO_loss: 11348.4878 - NU_NOTA_MT_mean_absolute_error: 80.8351 - NU_NOTA_CN_mean_absolute_error: 80.8719 - NU_NOTA_CH_mean_absolute_error: 80.8429 - NU_NOTA_LC_mean_absolute_error: 80.7867 - NU_NOTA_REDACAO_mean_absolute_error: 80.7802 - val_loss: 56350.3448 - val_NU_NOTA_MT_loss: 11306.1851 - val_NU_NOTA_CN_loss: 11274.3038 - val_NU_NOTA_CH_loss: 11248.1461 - val_NU_NOTA_LC_loss: 11312.6272 - val_NU_NOTA_REDACAO_loss: 11209.0828 - val_NU_NOTA_MT_mean_absolute_error: 80.6031 - val_NU_NOTA_CN_mean_absolute_error: 80.4549 - val_NU_NOTA_CH_mean_absolute_error: 80.3422 - val_NU_NOTA_LC_mean_absolute_error: 80.6688 - val_NU_NOTA_REDACAO_mean_absolute_error: 80.3910\n",
      "Epoch 13/40\n",
      "712/712 [==============================] - 91s 127ms/step - loss: 56485.1665 - NU_NOTA_MT_loss: 11300.7811 - NU_NOTA_CN_loss: 11302.0319 - NU_NOTA_CH_loss: 11307.7898 - NU_NOTA_LC_loss: 11290.0160 - NU_NOTA_REDACAO_loss: 11284.5478 - NU_NOTA_MT_mean_absolute_error: 80.5898 - NU_NOTA_CN_mean_absolute_error: 80.6261 - NU_NOTA_CH_mean_absolute_error: 80.5986 - NU_NOTA_LC_mean_absolute_error: 80.5427 - NU_NOTA_REDACAO_mean_absolute_error: 80.5358 - val_loss: 56049.4063 - val_NU_NOTA_MT_loss: 11245.6222 - val_NU_NOTA_CN_loss: 11213.4781 - val_NU_NOTA_CH_loss: 11188.4376 - val_NU_NOTA_LC_loss: 11252.4174 - val_NU_NOTA_REDACAO_loss: 11149.4512 - val_NU_NOTA_MT_mean_absolute_error: 80.3716 - val_NU_NOTA_CN_mean_absolute_error: 80.2232 - val_NU_NOTA_CH_mean_absolute_error: 80.1114 - val_NU_NOTA_LC_mean_absolute_error: 80.4370 - val_NU_NOTA_REDACAO_mean_absolute_error: 80.1616\n",
      "Epoch 14/40\n",
      "712/712 [==============================] - 88s 124ms/step - loss: 56191.3764 - NU_NOTA_MT_loss: 11241.9692 - NU_NOTA_CN_loss: 11242.9615 - NU_NOTA_CH_loss: 11249.1495 - NU_NOTA_LC_loss: 11231.5282 - NU_NOTA_REDACAO_loss: 11225.7680 - NU_NOTA_MT_mean_absolute_error: 80.3638 - NU_NOTA_CN_mean_absolute_error: 80.3998 - NU_NOTA_CH_mean_absolute_error: 80.3737 - NU_NOTA_LC_mean_absolute_error: 80.3181 - NU_NOTA_REDACAO_mean_absolute_error: 80.3105 - val_loss: 55772.7080 - val_NU_NOTA_MT_loss: 11189.9166 - val_NU_NOTA_CN_loss: 11157.5771 - val_NU_NOTA_CH_loss: 11133.5337 - val_NU_NOTA_LC_loss: 11197.1003 - val_NU_NOTA_REDACAO_loss: 11094.5803 - val_NU_NOTA_MT_mean_absolute_error: 80.1583 - val_NU_NOTA_CN_mean_absolute_error: 80.0097 - val_NU_NOTA_CH_mean_absolute_error: 79.8989 - val_NU_NOTA_LC_mean_absolute_error: 80.2239 - val_NU_NOTA_REDACAO_mean_absolute_error: 79.9500\n",
      "Epoch 15/40\n",
      "712/712 [==============================] - 88s 123ms/step - loss: 55920.7584 - NU_NOTA_MT_loss: 11187.8006 - NU_NOTA_CN_loss: 11188.5451 - NU_NOTA_CH_loss: 11195.1459 - NU_NOTA_LC_loss: 11177.6619 - NU_NOTA_REDACAO_loss: 11171.6049 - NU_NOTA_MT_mean_absolute_error: 80.1554 - NU_NOTA_CN_mean_absolute_error: 80.1910 - NU_NOTA_CH_mean_absolute_error: 80.1661 - NU_NOTA_LC_mean_absolute_error: 80.1108 - NU_NOTA_REDACAO_mean_absolute_error: 80.1024 - val_loss: 55517.8539 - val_NU_NOTA_MT_loss: 11138.6238 - val_NU_NOTA_CN_loss: 11106.1170 - val_NU_NOTA_CH_loss: 11082.9557 - val_NU_NOTA_LC_loss: 11146.1406 - val_NU_NOTA_REDACAO_loss: 11044.0167 - val_NU_NOTA_MT_mean_absolute_error: 79.9615 - val_NU_NOTA_CN_mean_absolute_error: 79.8132 - val_NU_NOTA_CH_mean_absolute_error: 79.7028 - val_NU_NOTA_LC_mean_absolute_error: 80.0274 - val_NU_NOTA_REDACAO_mean_absolute_error: 79.7546\n",
      "Epoch 16/40\n",
      "712/712 [==============================] - 90s 127ms/step - loss: 55671.2457 - NU_NOTA_MT_loss: 11137.8439 - NU_NOTA_CN_loss: 11138.3670 - NU_NOTA_CH_loss: 11145.3618 - NU_NOTA_LC_loss: 11128.0101 - NU_NOTA_REDACAO_loss: 11121.6630 - NU_NOTA_MT_mean_absolute_error: 79.9629 - NU_NOTA_CN_mean_absolute_error: 79.9981 - NU_NOTA_CH_mean_absolute_error: 79.9744 - NU_NOTA_LC_mean_absolute_error: 79.9193 - NU_NOTA_REDACAO_mean_absolute_error: 79.9103 - val_loss: 55282.8382 - val_NU_NOTA_MT_loss: 11091.3221 - val_NU_NOTA_CN_loss: 11058.6539 - val_NU_NOTA_CH_loss: 11036.3594 - val_NU_NOTA_LC_loss: 11099.1474 - val_NU_NOTA_REDACAO_loss: 10997.3554 - val_NU_NOTA_MT_mean_absolute_error: 79.7799 - val_NU_NOTA_CN_mean_absolute_error: 79.6321 - val_NU_NOTA_CH_mean_absolute_error: 79.5215 - val_NU_NOTA_LC_mean_absolute_error: 79.8454 - val_NU_NOTA_REDACAO_mean_absolute_error: 79.5734\n",
      "Epoch 17/40\n",
      "712/712 [==============================] - 89s 125ms/step - loss: 55441.0440 - NU_NOTA_MT_loss: 11091.7502 - NU_NOTA_CN_loss: 11092.0723 - NU_NOTA_CH_loss: 11099.4381 - NU_NOTA_LC_loss: 11082.2123 - NU_NOTA_REDACAO_loss: 11075.5711 - NU_NOTA_MT_mean_absolute_error: 79.7851 - NU_NOTA_CN_mean_absolute_error: 79.8199 - NU_NOTA_CH_mean_absolute_error: 79.7973 - NU_NOTA_LC_mean_absolute_error: 79.7424 - NU_NOTA_REDACAO_mean_absolute_error: 79.7329 - val_loss: 55066.0607 - val_NU_NOTA_MT_loss: 11047.6658 - val_NU_NOTA_CN_loss: 11014.9015 - val_NU_NOTA_CH_loss: 10993.3787 - val_NU_NOTA_LC_loss: 11055.8057 - val_NU_NOTA_REDACAO_loss: 10954.3088 - val_NU_NOTA_MT_mean_absolute_error: 79.6120 - val_NU_NOTA_CN_mean_absolute_error: 79.4651 - val_NU_NOTA_CH_mean_absolute_error: 79.3541 - val_NU_NOTA_LC_mean_absolute_error: 79.6766 - val_NU_NOTA_REDACAO_mean_absolute_error: 79.4050\n",
      "Epoch 18/40\n",
      "712/712 [==============================] - 77s 109ms/step - loss: 55228.6353 - NU_NOTA_MT_loss: 11049.2135 - NU_NOTA_CN_loss: 11049.3614 - NU_NOTA_CH_loss: 11057.0722 - NU_NOTA_LC_loss: 11039.9683 - NU_NOTA_REDACAO_loss: 11033.0199 - NU_NOTA_MT_mean_absolute_error: 79.6208 - NU_NOTA_CN_mean_absolute_error: 79.6551 - NU_NOTA_CH_mean_absolute_error: 79.6336 - NU_NOTA_LC_mean_absolute_error: 79.5793 - NU_NOTA_REDACAO_mean_absolute_error: 79.5689 - val_loss: 54866.0325 - val_NU_NOTA_MT_loss: 11007.3681 - val_NU_NOTA_CN_loss: 10974.5385 - val_NU_NOTA_CH_loss: 10953.7486 - val_NU_NOTA_LC_loss: 11015.8082 - val_NU_NOTA_REDACAO_loss: 10914.5683 - val_NU_NOTA_MT_mean_absolute_error: 79.4566 - val_NU_NOTA_CN_mean_absolute_error: 79.3110 - val_NU_NOTA_CH_mean_absolute_error: 79.1996 - val_NU_NOTA_LC_mean_absolute_error: 79.5210 - val_NU_NOTA_REDACAO_mean_absolute_error: 79.2493\n",
      "Epoch 19/40\n"
     ]
    },
    {
     "name": "stdout",
     "output_type": "stream",
     "text": [
      "712/712 [==============================] - 70s 98ms/step - loss: 55032.7048 - NU_NOTA_MT_loss: 11009.9859 - NU_NOTA_CN_loss: 11009.9737 - NU_NOTA_CH_loss: 11017.9865 - NU_NOTA_LC_loss: 11000.9989 - NU_NOTA_REDACAO_loss: 10993.7599 - NU_NOTA_MT_mean_absolute_error: 79.4690 - NU_NOTA_CN_mean_absolute_error: 79.5031 - NU_NOTA_CH_mean_absolute_error: 79.4825 - NU_NOTA_LC_mean_absolute_error: 79.4288 - NU_NOTA_REDACAO_mean_absolute_error: 79.4176 - val_loss: 54681.5990 - val_NU_NOTA_MT_loss: 10970.2059 - val_NU_NOTA_CN_loss: 10937.2844 - val_NU_NOTA_CH_loss: 10917.2308 - val_NU_NOTA_LC_loss: 10978.9672 - val_NU_NOTA_REDACAO_loss: 10877.9109 - val_NU_NOTA_MT_mean_absolute_error: 79.3124 - val_NU_NOTA_CN_mean_absolute_error: 79.1690 - val_NU_NOTA_CH_mean_absolute_error: 79.0570 - val_NU_NOTA_LC_mean_absolute_error: 79.3778 - val_NU_NOTA_REDACAO_mean_absolute_error: 79.1058\n",
      "Epoch 20/40\n",
      "712/712 [==============================] - 86s 121ms/step - loss: 54852.1415 - NU_NOTA_MT_loss: 10973.8402 - NU_NOTA_CN_loss: 10973.6751 - NU_NOTA_CH_loss: 10981.9684 - NU_NOTA_LC_loss: 10965.0790 - NU_NOTA_REDACAO_loss: 10957.5785 - NU_NOTA_MT_mean_absolute_error: 79.3291 - NU_NOTA_CN_mean_absolute_error: 79.3629 - NU_NOTA_CH_mean_absolute_error: 79.3432 - NU_NOTA_LC_mean_absolute_error: 79.2899 - NU_NOTA_REDACAO_mean_absolute_error: 79.2782 - val_loss: 54511.8658 - val_NU_NOTA_MT_loss: 10935.9694 - val_NU_NOTA_CN_loss: 10902.9982 - val_NU_NOTA_CH_loss: 10883.6546 - val_NU_NOTA_LC_loss: 10945.0678 - val_NU_NOTA_REDACAO_loss: 10844.1758 - val_NU_NOTA_MT_mean_absolute_error: 79.1794 - val_NU_NOTA_CN_mean_absolute_error: 79.0384 - val_NU_NOTA_CH_mean_absolute_error: 78.9262 - val_NU_NOTA_LC_mean_absolute_error: 79.2461 - val_NU_NOTA_REDACAO_mean_absolute_error: 78.9742\n",
      "Epoch 21/40\n",
      "712/712 [==============================] - 87s 122ms/step - loss: 54685.8886 - NU_NOTA_MT_loss: 10940.5715 - NU_NOTA_CN_loss: 10940.2549 - NU_NOTA_CH_loss: 10948.7968 - NU_NOTA_LC_loss: 10932.0031 - NU_NOTA_REDACAO_loss: 10924.2621 - NU_NOTA_MT_mean_absolute_error: 79.2001 - NU_NOTA_CN_mean_absolute_error: 79.2336 - NU_NOTA_CH_mean_absolute_error: 79.2147 - NU_NOTA_LC_mean_absolute_error: 79.1620 - NU_NOTA_REDACAO_mean_absolute_error: 79.1497 - val_loss: 54355.5729 - val_NU_NOTA_MT_loss: 10904.4414 - val_NU_NOTA_CN_loss: 10871.4424 - val_NU_NOTA_CH_loss: 10852.7170 - val_NU_NOTA_LC_loss: 10913.8464 - val_NU_NOTA_REDACAO_loss: 10813.1256 - val_NU_NOTA_MT_mean_absolute_error: 79.0567 - val_NU_NOTA_CN_mean_absolute_error: 78.9176 - val_NU_NOTA_CH_mean_absolute_error: 78.8057 - val_NU_NOTA_LC_mean_absolute_error: 79.1252 - val_NU_NOTA_REDACAO_mean_absolute_error: 78.8530\n",
      "Epoch 22/40\n",
      "712/712 [==============================] - 86s 121ms/step - loss: 54532.7266 - NU_NOTA_MT_loss: 10909.9179 - NU_NOTA_CN_loss: 10909.4784 - NU_NOTA_CH_loss: 10918.2376 - NU_NOTA_LC_loss: 10901.5267 - NU_NOTA_REDACAO_loss: 10893.5659 - NU_NOTA_MT_mean_absolute_error: 79.0813 - NU_NOTA_CN_mean_absolute_error: 79.1143 - NU_NOTA_CH_mean_absolute_error: 79.0964 - NU_NOTA_LC_mean_absolute_error: 79.0442 - NU_NOTA_REDACAO_mean_absolute_error: 79.0312 - val_loss: 54211.5726 - val_NU_NOTA_MT_loss: 10875.3791 - val_NU_NOTA_CN_loss: 10842.3653 - val_NU_NOTA_CH_loss: 10824.2029 - val_NU_NOTA_LC_loss: 10885.0990 - val_NU_NOTA_REDACAO_loss: 10784.5265 - val_NU_NOTA_MT_mean_absolute_error: 78.9438 - val_NU_NOTA_CN_mean_absolute_error: 78.8064 - val_NU_NOTA_CH_mean_absolute_error: 78.6950 - val_NU_NOTA_LC_mean_absolute_error: 79.0138 - val_NU_NOTA_REDACAO_mean_absolute_error: 78.7413\n",
      "Epoch 23/40\n",
      "712/712 [==============================] - 87s 122ms/step - loss: 54391.6390 - NU_NOTA_MT_loss: 10881.6808 - NU_NOTA_CN_loss: 10881.1375 - NU_NOTA_CH_loss: 10890.0892 - NU_NOTA_LC_loss: 10873.4560 - NU_NOTA_REDACAO_loss: 10865.2756 - NU_NOTA_MT_mean_absolute_error: 78.9716 - NU_NOTA_CN_mean_absolute_error: 79.0044 - NU_NOTA_CH_mean_absolute_error: 78.9873 - NU_NOTA_LC_mean_absolute_error: 78.9356 - NU_NOTA_REDACAO_mean_absolute_error: 78.9220 - val_loss: 54078.8590 - val_NU_NOTA_MT_loss: 10848.5693 - val_NU_NOTA_CN_loss: 10815.5222 - val_NU_NOTA_CH_loss: 10797.9803 - val_NU_NOTA_LC_loss: 10858.6309 - val_NU_NOTA_REDACAO_loss: 10758.1563 - val_NU_NOTA_MT_mean_absolute_error: 78.8392 - val_NU_NOTA_CN_mean_absolute_error: 78.7036 - val_NU_NOTA_CH_mean_absolute_error: 78.5931 - val_NU_NOTA_LC_mean_absolute_error: 78.9115 - val_NU_NOTA_REDACAO_mean_absolute_error: 78.6381\n",
      "Epoch 24/40\n",
      "712/712 [==============================] - 86s 121ms/step - loss: 54261.6547 - NU_NOTA_MT_loss: 10855.6752 - NU_NOTA_CN_loss: 10855.0281 - NU_NOTA_CH_loss: 10864.1596 - NU_NOTA_LC_loss: 10847.5917 - NU_NOTA_REDACAO_loss: 10839.2001 - NU_NOTA_MT_mean_absolute_error: 78.8706 - NU_NOTA_CN_mean_absolute_error: 78.9029 - NU_NOTA_CH_mean_absolute_error: 78.8869 - NU_NOTA_LC_mean_absolute_error: 78.8353 - NU_NOTA_REDACAO_mean_absolute_error: 78.8213 - val_loss: 53956.4548 - val_NU_NOTA_MT_loss: 10823.8655 - val_NU_NOTA_CN_loss: 10790.7557 - val_NU_NOTA_CH_loss: 10773.7890 - val_NU_NOTA_LC_loss: 10834.2367 - val_NU_NOTA_REDACAO_loss: 10733.8078 - val_NU_NOTA_MT_mean_absolute_error: 78.7422 - val_NU_NOTA_CN_mean_absolute_error: 78.6086 - val_NU_NOTA_CH_mean_absolute_error: 78.4993 - val_NU_NOTA_LC_mean_absolute_error: 78.8176 - val_NU_NOTA_REDACAO_mean_absolute_error: 78.5427\n",
      "Epoch 25/40\n",
      "712/712 [==============================] - 83s 117ms/step - loss: 54141.9786 - NU_NOTA_MT_loss: 10831.7322 - NU_NOTA_CN_loss: 10830.9869 - NU_NOTA_CH_loss: 10840.2899 - NU_NOTA_LC_loss: 10823.7831 - NU_NOTA_REDACAO_loss: 10815.1867 - NU_NOTA_MT_mean_absolute_error: 78.7775 - NU_NOTA_CN_mean_absolute_error: 78.8094 - NU_NOTA_CH_mean_absolute_error: 78.7943 - NU_NOTA_LC_mean_absolute_error: 78.7431 - NU_NOTA_REDACAO_mean_absolute_error: 78.7286 - val_loss: 53843.7673 - val_NU_NOTA_MT_loss: 10801.1338 - val_NU_NOTA_CN_loss: 10767.9751 - val_NU_NOTA_CH_loss: 10751.4881 - val_NU_NOTA_LC_loss: 10811.7994 - val_NU_NOTA_REDACAO_loss: 10711.3717 - val_NU_NOTA_MT_mean_absolute_error: 78.6533 - val_NU_NOTA_CN_mean_absolute_error: 78.5214 - val_NU_NOTA_CH_mean_absolute_error: 78.4131 - val_NU_NOTA_LC_mean_absolute_error: 78.7315 - val_NU_NOTA_REDACAO_mean_absolute_error: 78.4546\n",
      "Epoch 26/40\n",
      "712/712 [==============================] - 79s 110ms/step - loss: 54031.8492 - NU_NOTA_MT_loss: 10809.7000 - NU_NOTA_CN_loss: 10808.8628 - NU_NOTA_CH_loss: 10818.3275 - NU_NOTA_LC_loss: 10801.8681 - NU_NOTA_REDACAO_loss: 10793.0908 - NU_NOTA_MT_mean_absolute_error: 78.6919 - NU_NOTA_CN_mean_absolute_error: 78.7234 - NU_NOTA_CH_mean_absolute_error: 78.7091 - NU_NOTA_LC_mean_absolute_error: 78.6582 - NU_NOTA_REDACAO_mean_absolute_error: 78.6432 - val_loss: 53740.0291 - val_NU_NOTA_MT_loss: 10780.2314 - val_NU_NOTA_CN_loss: 10746.9692 - val_NU_NOTA_CH_loss: 10730.9565 - val_NU_NOTA_LC_loss: 10791.1504 - val_NU_NOTA_REDACAO_loss: 10690.7217 - val_NU_NOTA_MT_mean_absolute_error: 78.5715 - val_NU_NOTA_CN_mean_absolute_error: 78.4410 - val_NU_NOTA_CH_mean_absolute_error: 78.3339 - val_NU_NOTA_LC_mean_absolute_error: 78.6522 - val_NU_NOTA_REDACAO_mean_absolute_error: 78.3733\n",
      "Epoch 27/40\n",
      "712/712 [==============================] - 82s 115ms/step - loss: 53930.4437 - NU_NOTA_MT_loss: 10789.4113 - NU_NOTA_CN_loss: 10788.4957 - NU_NOTA_CH_loss: 10798.0897 - NU_NOTA_LC_loss: 10781.6991 - NU_NOTA_REDACAO_loss: 10772.7477 - NU_NOTA_MT_mean_absolute_error: 78.6130 - NU_NOTA_CN_mean_absolute_error: 78.6441 - NU_NOTA_CH_mean_absolute_error: 78.6304 - NU_NOTA_LC_mean_absolute_error: 78.5801 - NU_NOTA_REDACAO_mean_absolute_error: 78.5646 - val_loss: 53644.5658 - val_NU_NOTA_MT_loss: 10760.9618 - val_NU_NOTA_CN_loss: 10727.6303 - val_NU_NOTA_CH_loss: 10712.0595 - val_NU_NOTA_LC_loss: 10772.1803 - val_NU_NOTA_REDACAO_loss: 10671.7337 - val_NU_NOTA_MT_mean_absolute_error: 78.4962 - val_NU_NOTA_CN_mean_absolute_error: 78.3666 - val_NU_NOTA_CH_mean_absolute_error: 78.2608 - val_NU_NOTA_LC_mean_absolute_error: 78.5790 - val_NU_NOTA_REDACAO_mean_absolute_error: 78.2984\n",
      "Epoch 28/40\n"
     ]
    },
    {
     "name": "stdout",
     "output_type": "stream",
     "text": [
      "712/712 [==============================] - 81s 113ms/step - loss: 53837.2812 - NU_NOTA_MT_loss: 10770.7738 - NU_NOTA_CN_loss: 10769.7893 - NU_NOTA_CH_loss: 10779.4960 - NU_NOTA_LC_loss: 10763.1712 - NU_NOTA_REDACAO_loss: 10754.0507 - NU_NOTA_MT_mean_absolute_error: 78.5407 - NU_NOTA_CN_mean_absolute_error: 78.5713 - NU_NOTA_CH_mean_absolute_error: 78.5582 - NU_NOTA_LC_mean_absolute_error: 78.5085 - NU_NOTA_REDACAO_mean_absolute_error: 78.4924 - val_loss: 53557.0583 - val_NU_NOTA_MT_loss: 10743.2643 - val_NU_NOTA_CN_loss: 10709.9046 - val_NU_NOTA_CH_loss: 10694.7943 - val_NU_NOTA_LC_loss: 10754.7402 - val_NU_NOTA_REDACAO_loss: 10654.3550 - val_NU_NOTA_MT_mean_absolute_error: 78.4271 - val_NU_NOTA_CN_mean_absolute_error: 78.2982 - val_NU_NOTA_CH_mean_absolute_error: 78.1943 - val_NU_NOTA_LC_mean_absolute_error: 78.5120 - val_NU_NOTA_REDACAO_mean_absolute_error: 78.2296\n",
      "Epoch 29/40\n",
      "712/712 [==============================] - 80s 112ms/step - loss: 53751.7966 - NU_NOTA_MT_loss: 10753.6603 - NU_NOTA_CN_loss: 10752.6398 - NU_NOTA_CH_loss: 10762.4355 - NU_NOTA_LC_loss: 10746.1699 - NU_NOTA_REDACAO_loss: 10736.8910 - NU_NOTA_MT_mean_absolute_error: 78.4743 - NU_NOTA_CN_mean_absolute_error: 78.5045 - NU_NOTA_CH_mean_absolute_error: 78.4918 - NU_NOTA_LC_mean_absolute_error: 78.4428 - NU_NOTA_REDACAO_mean_absolute_error: 78.4261 - val_loss: 53476.8652 - val_NU_NOTA_MT_loss: 10727.0324 - val_NU_NOTA_CN_loss: 10693.6752 - val_NU_NOTA_CH_loss: 10678.9743 - val_NU_NOTA_LC_loss: 10738.7538 - val_NU_NOTA_REDACAO_loss: 10638.4296 - val_NU_NOTA_MT_mean_absolute_error: 78.3641 - val_NU_NOTA_CN_mean_absolute_error: 78.2358 - val_NU_NOTA_CH_mean_absolute_error: 78.1335 - val_NU_NOTA_LC_mean_absolute_error: 78.4507 - val_NU_NOTA_REDACAO_mean_absolute_error: 78.1667\n",
      "Epoch 30/40\n",
      "712/712 [==============================] - 80s 113ms/step - loss: 53672.8311 - NU_NOTA_MT_loss: 10737.8642 - NU_NOTA_CN_loss: 10736.7725 - NU_NOTA_CH_loss: 10746.6678 - NU_NOTA_LC_loss: 10730.4878 - NU_NOTA_REDACAO_loss: 10721.0388 - NU_NOTA_MT_mean_absolute_error: 78.4130 - NU_NOTA_CN_mean_absolute_error: 78.4428 - NU_NOTA_CH_mean_absolute_error: 78.4304 - NU_NOTA_LC_mean_absolute_error: 78.3823 - NU_NOTA_REDACAO_mean_absolute_error: 78.3648 - val_loss: 53402.2886 - val_NU_NOTA_MT_loss: 10711.9722 - val_NU_NOTA_CN_loss: 10678.5582 - val_NU_NOTA_CH_loss: 10664.2696 - val_NU_NOTA_LC_loss: 10723.9145 - val_NU_NOTA_REDACAO_loss: 10623.5744 - val_NU_NOTA_MT_mean_absolute_error: 78.3058 - val_NU_NOTA_CN_mean_absolute_error: 78.1778 - val_NU_NOTA_CH_mean_absolute_error: 78.0769 - val_NU_NOTA_LC_mean_absolute_error: 78.3938 - val_NU_NOTA_REDACAO_mean_absolute_error: 78.1084\n",
      "Epoch 31/40\n",
      "712/712 [==============================] - 90s 126ms/step - loss: 53600.0376 - NU_NOTA_MT_loss: 10723.2973 - NU_NOTA_CN_loss: 10722.1361 - NU_NOTA_CH_loss: 10732.1380 - NU_NOTA_LC_loss: 10716.0381 - NU_NOTA_REDACAO_loss: 10706.4281 - NU_NOTA_MT_mean_absolute_error: 78.3565 - NU_NOTA_CN_mean_absolute_error: 78.3859 - NU_NOTA_CH_mean_absolute_error: 78.3739 - NU_NOTA_LC_mean_absolute_error: 78.3266 - NU_NOTA_REDACAO_mean_absolute_error: 78.3084 - val_loss: 53334.2863 - val_NU_NOTA_MT_loss: 10698.2404 - val_NU_NOTA_CN_loss: 10664.8025 - val_NU_NOTA_CH_loss: 10650.8369 - val_NU_NOTA_LC_loss: 10710.3691 - val_NU_NOTA_REDACAO_loss: 10610.0377 - val_NU_NOTA_MT_mean_absolute_error: 78.2526 - val_NU_NOTA_CN_mean_absolute_error: 78.1252 - val_NU_NOTA_CH_mean_absolute_error: 78.0252 - val_NU_NOTA_LC_mean_absolute_error: 78.3417 - val_NU_NOTA_REDACAO_mean_absolute_error: 78.0550\n",
      "Epoch 32/40\n",
      "712/712 [==============================] - 79s 111ms/step - loss: 53533.4821 - NU_NOTA_MT_loss: 10709.9729 - NU_NOTA_CN_loss: 10708.7589 - NU_NOTA_CH_loss: 10718.8585 - NU_NOTA_LC_loss: 10702.8055 - NU_NOTA_REDACAO_loss: 10693.0862 - NU_NOTA_MT_mean_absolute_error: 78.3049 - NU_NOTA_CN_mean_absolute_error: 78.3338 - NU_NOTA_CH_mean_absolute_error: 78.3223 - NU_NOTA_LC_mean_absolute_error: 78.2755 - NU_NOTA_REDACAO_mean_absolute_error: 78.2569 - val_loss: 53271.7499 - val_NU_NOTA_MT_loss: 10685.6367 - val_NU_NOTA_CN_loss: 10652.1521 - val_NU_NOTA_CH_loss: 10638.4786 - val_NU_NOTA_LC_loss: 10697.8933 - val_NU_NOTA_REDACAO_loss: 10597.5886 - val_NU_NOTA_MT_mean_absolute_error: 78.2036 - val_NU_NOTA_CN_mean_absolute_error: 78.0770 - val_NU_NOTA_CH_mean_absolute_error: 77.9777 - val_NU_NOTA_LC_mean_absolute_error: 78.2936 - val_NU_NOTA_REDACAO_mean_absolute_error: 78.0058\n",
      "Epoch 33/40\n",
      "712/712 [==============================] - 81s 114ms/step - loss: 53472.2046 - NU_NOTA_MT_loss: 10697.6983 - NU_NOTA_CN_loss: 10696.4432 - NU_NOTA_CH_loss: 10706.6372 - NU_NOTA_LC_loss: 10690.6116 - NU_NOTA_REDACAO_loss: 10680.8144 - NU_NOTA_MT_mean_absolute_error: 78.2573 - NU_NOTA_CN_mean_absolute_error: 78.2859 - NU_NOTA_CH_mean_absolute_error: 78.2748 - NU_NOTA_LC_mean_absolute_error: 78.2284 - NU_NOTA_REDACAO_mean_absolute_error: 78.2095 - val_loss: 53214.0858 - val_NU_NOTA_MT_loss: 10674.0228 - val_NU_NOTA_CN_loss: 10640.4867 - val_NU_NOTA_CH_loss: 10627.0887 - val_NU_NOTA_LC_loss: 10686.3788 - val_NU_NOTA_REDACAO_loss: 10586.1089 - val_NU_NOTA_MT_mean_absolute_error: 78.1585 - val_NU_NOTA_CN_mean_absolute_error: 78.0325 - val_NU_NOTA_CH_mean_absolute_error: 77.9340 - val_NU_NOTA_LC_mean_absolute_error: 78.2493 - val_NU_NOTA_REDACAO_mean_absolute_error: 77.9602\n",
      "Epoch 34/40\n",
      "712/712 [==============================] - 79s 111ms/step - loss: 53415.6675 - NU_NOTA_MT_loss: 10686.3618 - NU_NOTA_CN_loss: 10685.0848 - NU_NOTA_CH_loss: 10695.3682 - NU_NOTA_LC_loss: 10679.3545 - NU_NOTA_REDACAO_loss: 10669.4984 - NU_NOTA_MT_mean_absolute_error: 78.2134 - NU_NOTA_CN_mean_absolute_error: 78.2418 - NU_NOTA_CH_mean_absolute_error: 78.2310 - NU_NOTA_LC_mean_absolute_error: 78.1850 - NU_NOTA_REDACAO_mean_absolute_error: 78.1658 - val_loss: 53160.6803 - val_NU_NOTA_MT_loss: 10663.2728 - val_NU_NOTA_CN_loss: 10629.6735 - val_NU_NOTA_CH_loss: 10616.5750 - val_NU_NOTA_LC_loss: 10675.7103 - val_NU_NOTA_REDACAO_loss: 10575.4492 - val_NU_NOTA_MT_mean_absolute_error: 78.1168 - val_NU_NOTA_CN_mean_absolute_error: 77.9913 - val_NU_NOTA_CH_mean_absolute_error: 77.8936 - val_NU_NOTA_LC_mean_absolute_error: 78.2082 - val_NU_NOTA_REDACAO_mean_absolute_error: 77.9175\n",
      "Epoch 35/40\n",
      "712/712 [==============================] - 75s 105ms/step - loss: 53363.3857 - NU_NOTA_MT_loss: 10675.8754 - NU_NOTA_CN_loss: 10674.5826 - NU_NOTA_CH_loss: 10684.9475 - NU_NOTA_LC_loss: 10668.9456 - NU_NOTA_REDACAO_loss: 10659.0345 - NU_NOTA_MT_mean_absolute_error: 78.1728 - NU_NOTA_CN_mean_absolute_error: 78.2009 - NU_NOTA_CH_mean_absolute_error: 78.1905 - NU_NOTA_LC_mean_absolute_error: 78.1448 - NU_NOTA_REDACAO_mean_absolute_error: 78.1254 - val_loss: 53111.1144 - val_NU_NOTA_MT_loss: 10653.3000 - val_NU_NOTA_CN_loss: 10619.6433 - val_NU_NOTA_CH_loss: 10606.8266 - val_NU_NOTA_LC_loss: 10665.7934 - val_NU_NOTA_REDACAO_loss: 10565.5517 - val_NU_NOTA_MT_mean_absolute_error: 78.0783 - val_NU_NOTA_CN_mean_absolute_error: 77.9530 - val_NU_NOTA_CH_mean_absolute_error: 77.8563 - val_NU_NOTA_LC_mean_absolute_error: 78.1700 - val_NU_NOTA_REDACAO_mean_absolute_error: 77.8779\n",
      "Epoch 36/40\n",
      "712/712 [==============================] - 90s 126ms/step - loss: 53314.9419 - NU_NOTA_MT_loss: 10666.1565 - NU_NOTA_CN_loss: 10664.8568 - NU_NOTA_CH_loss: 10675.2911 - NU_NOTA_LC_loss: 10659.2983 - NU_NOTA_REDACAO_loss: 10649.3393 - NU_NOTA_MT_mean_absolute_error: 78.1352 - NU_NOTA_CN_mean_absolute_error: 78.1630 - NU_NOTA_CH_mean_absolute_error: 78.1530 - NU_NOTA_LC_mean_absolute_error: 78.1076 - NU_NOTA_REDACAO_mean_absolute_error: 78.0879 - val_loss: 53065.1175 - val_NU_NOTA_MT_loss: 10644.0348 - val_NU_NOTA_CN_loss: 10610.3613 - val_NU_NOTA_CH_loss: 10597.7854 - val_NU_NOTA_LC_loss: 10656.5829 - val_NU_NOTA_REDACAO_loss: 10556.3531 - val_NU_NOTA_MT_mean_absolute_error: 78.0427 - val_NU_NOTA_CN_mean_absolute_error: 77.9175 - val_NU_NOTA_CH_mean_absolute_error: 77.8218 - val_NU_NOTA_LC_mean_absolute_error: 78.1344 - val_NU_NOTA_REDACAO_mean_absolute_error: 77.8413\n",
      "Epoch 37/40\n"
     ]
    },
    {
     "name": "stdout",
     "output_type": "stream",
     "text": [
      "712/712 [==============================] - 88s 124ms/step - loss: 53269.9691 - NU_NOTA_MT_loss: 10657.1311 - NU_NOTA_CN_loss: 10655.8248 - NU_NOTA_CH_loss: 10666.3270 - NU_NOTA_LC_loss: 10650.3474 - NU_NOTA_REDACAO_loss: 10640.3388 - NU_NOTA_MT_mean_absolute_error: 78.1002 - NU_NOTA_CN_mean_absolute_error: 78.1278 - NU_NOTA_CH_mean_absolute_error: 78.1181 - NU_NOTA_LC_mean_absolute_error: 78.0731 - NU_NOTA_REDACAO_mean_absolute_error: 78.0532 - val_loss: 53022.2112 - val_NU_NOTA_MT_loss: 10635.4118 - val_NU_NOTA_CN_loss: 10601.7208 - val_NU_NOTA_CH_loss: 10589.3323 - val_NU_NOTA_LC_loss: 10647.9877 - val_NU_NOTA_REDACAO_loss: 10547.7584 - val_NU_NOTA_MT_mean_absolute_error: 78.0096 - val_NU_NOTA_CN_mean_absolute_error: 77.8843 - val_NU_NOTA_CH_mean_absolute_error: 77.7896 - val_NU_NOTA_LC_mean_absolute_error: 78.1012 - val_NU_NOTA_REDACAO_mean_absolute_error: 77.8071\n",
      "Epoch 38/40\n",
      "712/712 [==============================] - 87s 122ms/step - loss: 53228.0757 - NU_NOTA_MT_loss: 10648.7225 - NU_NOTA_CN_loss: 10647.4115 - NU_NOTA_CH_loss: 10657.9730 - NU_NOTA_LC_loss: 10642.0077 - NU_NOTA_REDACAO_loss: 10631.9611 - NU_NOTA_MT_mean_absolute_error: 78.0676 - NU_NOTA_CN_mean_absolute_error: 78.0951 - NU_NOTA_CH_mean_absolute_error: 78.0857 - NU_NOTA_LC_mean_absolute_error: 78.0410 - NU_NOTA_REDACAO_mean_absolute_error: 78.0209 - val_loss: 52982.1123 - val_NU_NOTA_MT_loss: 10627.3528 - val_NU_NOTA_CN_loss: 10593.6686 - val_NU_NOTA_CH_loss: 10581.4230 - val_NU_NOTA_LC_loss: 10639.9363 - val_NU_NOTA_REDACAO_loss: 10539.7318 - val_NU_NOTA_MT_mean_absolute_error: 77.9787 - val_NU_NOTA_CN_mean_absolute_error: 77.8533 - val_NU_NOTA_CH_mean_absolute_error: 77.7596 - val_NU_NOTA_LC_mean_absolute_error: 78.0701 - val_NU_NOTA_REDACAO_mean_absolute_error: 77.7751\n",
      "Epoch 39/40\n",
      "712/712 [==============================] - 87s 122ms/step - loss: 53188.9547 - NU_NOTA_MT_loss: 10640.8689 - NU_NOTA_CN_loss: 10639.5543 - NU_NOTA_CH_loss: 10650.1714 - NU_NOTA_LC_loss: 10634.2195 - NU_NOTA_REDACAO_loss: 10624.1406 - NU_NOTA_MT_mean_absolute_error: 78.0372 - NU_NOTA_CN_mean_absolute_error: 78.0645 - NU_NOTA_CH_mean_absolute_error: 78.0554 - NU_NOTA_LC_mean_absolute_error: 78.0109 - NU_NOTA_REDACAO_mean_absolute_error: 77.9907 - val_loss: 52944.4643 - val_NU_NOTA_MT_loss: 10619.7745 - val_NU_NOTA_CN_loss: 10586.1240 - val_NU_NOTA_CH_loss: 10573.9790 - val_NU_NOTA_LC_loss: 10632.3842 - val_NU_NOTA_REDACAO_loss: 10532.2029 - val_NU_NOTA_MT_mean_absolute_error: 77.9496 - val_NU_NOTA_CN_mean_absolute_error: 77.8243 - val_NU_NOTA_CH_mean_absolute_error: 77.7312 - val_NU_NOTA_LC_mean_absolute_error: 78.0409 - val_NU_NOTA_REDACAO_mean_absolute_error: 77.7450\n",
      "Epoch 40/40\n",
      "712/712 [==============================] - 77s 108ms/step - loss: 53152.3112 - NU_NOTA_MT_loss: 10633.5108 - NU_NOTA_CN_loss: 10632.1944 - NU_NOTA_CH_loss: 10642.8621 - NU_NOTA_LC_loss: 10626.9283 - NU_NOTA_REDACAO_loss: 10616.8156 - NU_NOTA_MT_mean_absolute_error: 78.0087 - NU_NOTA_CN_mean_absolute_error: 78.0359 - NU_NOTA_CH_mean_absolute_error: 78.0270 - NU_NOTA_LC_mean_absolute_error: 77.9827 - NU_NOTA_REDACAO_mean_absolute_error: 77.9624 - val_loss: 52909.1146 - val_NU_NOTA_MT_loss: 10612.6499 - val_NU_NOTA_CN_loss: 10579.0510 - val_NU_NOTA_CH_loss: 10566.9838 - val_NU_NOTA_LC_loss: 10625.2903 - val_NU_NOTA_REDACAO_loss: 10525.1396 - val_NU_NOTA_MT_mean_absolute_error: 77.9224 - val_NU_NOTA_CN_mean_absolute_error: 77.7971 - val_NU_NOTA_CH_mean_absolute_error: 77.7045 - val_NU_NOTA_LC_mean_absolute_error: 78.0135 - val_NU_NOTA_REDACAO_mean_absolute_error: 77.7169\n"
     ]
    },
    {
     "data": {
      "image/png": "[encoded data removed]",
      "text/plain": [
       "<Figure size 432x288 with 1 Axes>"
      ]
     },
     "metadata": {},
     "output_type": "display_data"
    }
   ],
   "source": [
    "history = model.fit_generator(part_reader_f(partial_train),\n",
    "                              steps_per_epoch=len(partial_train),\n",
    "                              epochs=40,\n",
    "                              validation_data=part_reader_f(validation),\n",
    "                              validation_steps=len(validation))\n",
    "\n",
    "show_accuracy_chart(history, 'NU_NOTA_MT')"
   ]
  }
 ],
 "metadata": {
  "kernelspec": {
   "display_name": "Python 3",
   "language": "python",
   "name": "python3"
  },
  "language_info": {
   "codemirror_mode": {
    "name": "ipython",
    "version": 3
   },
   "file_extension": ".py",
   "mimetype": "text/x-python",
   "name": "python",
   "nbconvert_exporter": "python",
   "pygments_lexer": "ipython3",
   "version": "3.6.5"
  }
 },
 "nbformat": 4,
 "nbformat_minor": 2
}
